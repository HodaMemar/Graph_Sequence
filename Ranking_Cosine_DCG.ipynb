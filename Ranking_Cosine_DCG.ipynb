{
 "cells": [
  {
   "cell_type": "code",
   "execution_count": 3,
   "metadata": {},
   "outputs": [],
   "source": [
    "from scipy import spatial\n",
    "import pandas as pd\n"
   ]
  },
  {
   "cell_type": "markdown",
   "metadata": {},
   "source": [
    "## Load Embedded Vectors"
   ]
  },
  {
   "cell_type": "code",
   "execution_count": 4,
   "metadata": {},
   "outputs": [],
   "source": [
    "df=pd.read_csv('D:\\Embedding\\Code\\Data\\Processrd_Data\\EmbeddedVecor_Coronary.csv')"
   ]
  },
  {
   "cell_type": "markdown",
   "metadata": {},
   "source": [
    "## Calculate Cosine Distance for Embedded Vectors"
   ]
  },
  {
   "cell_type": "code",
   "execution_count": 5,
   "metadata": {},
   "outputs": [],
   "source": [
    "list_Dis=[]\n",
    "for i in range(len(df)):\n",
    "    dataSetI=list(df.iloc[i][0:19])\n",
    "    for j in range(len(df)):\n",
    "        dataSetII=list(df.iloc[j][0:19])\n",
    "        list_Dis.append([i,j,1 - spatial.distance.cosine(dataSetI, dataSetII)])"
   ]
  },
  {
   "cell_type": "code",
   "execution_count": 6,
   "metadata": {},
   "outputs": [
    {
     "data": {
      "text/html": [
       "<div>\n",
       "<style scoped>\n",
       "    .dataframe tbody tr th:only-of-type {\n",
       "        vertical-align: middle;\n",
       "    }\n",
       "\n",
       "    .dataframe tbody tr th {\n",
       "        vertical-align: top;\n",
       "    }\n",
       "\n",
       "    .dataframe thead th {\n",
       "        text-align: right;\n",
       "    }\n",
       "</style>\n",
       "<table border=\"1\" class=\"dataframe\">\n",
       "  <thead>\n",
       "    <tr style=\"text-align: right;\">\n",
       "      <th></th>\n",
       "      <th>p1</th>\n",
       "      <th>p2</th>\n",
       "      <th>distance</th>\n",
       "    </tr>\n",
       "  </thead>\n",
       "  <tbody>\n",
       "    <tr>\n",
       "      <th>0</th>\n",
       "      <td>0</td>\n",
       "      <td>0</td>\n",
       "      <td>1.000000</td>\n",
       "    </tr>\n",
       "    <tr>\n",
       "      <th>1</th>\n",
       "      <td>0</td>\n",
       "      <td>1</td>\n",
       "      <td>0.082137</td>\n",
       "    </tr>\n",
       "    <tr>\n",
       "      <th>2</th>\n",
       "      <td>0</td>\n",
       "      <td>2</td>\n",
       "      <td>0.199644</td>\n",
       "    </tr>\n",
       "    <tr>\n",
       "      <th>3</th>\n",
       "      <td>0</td>\n",
       "      <td>3</td>\n",
       "      <td>-0.172991</td>\n",
       "    </tr>\n",
       "    <tr>\n",
       "      <th>4</th>\n",
       "      <td>0</td>\n",
       "      <td>4</td>\n",
       "      <td>0.149356</td>\n",
       "    </tr>\n",
       "    <tr>\n",
       "      <th>...</th>\n",
       "      <td>...</td>\n",
       "      <td>...</td>\n",
       "      <td>...</td>\n",
       "    </tr>\n",
       "    <tr>\n",
       "      <th>2111</th>\n",
       "      <td>45</td>\n",
       "      <td>41</td>\n",
       "      <td>0.783647</td>\n",
       "    </tr>\n",
       "    <tr>\n",
       "      <th>2112</th>\n",
       "      <td>45</td>\n",
       "      <td>42</td>\n",
       "      <td>0.681884</td>\n",
       "    </tr>\n",
       "    <tr>\n",
       "      <th>2113</th>\n",
       "      <td>45</td>\n",
       "      <td>43</td>\n",
       "      <td>0.663566</td>\n",
       "    </tr>\n",
       "    <tr>\n",
       "      <th>2114</th>\n",
       "      <td>45</td>\n",
       "      <td>44</td>\n",
       "      <td>0.783986</td>\n",
       "    </tr>\n",
       "    <tr>\n",
       "      <th>2115</th>\n",
       "      <td>45</td>\n",
       "      <td>45</td>\n",
       "      <td>1.000000</td>\n",
       "    </tr>\n",
       "  </tbody>\n",
       "</table>\n",
       "<p>2116 rows × 3 columns</p>\n",
       "</div>"
      ],
      "text/plain": [
       "      p1  p2  distance\n",
       "0      0   0  1.000000\n",
       "1      0   1  0.082137\n",
       "2      0   2  0.199644\n",
       "3      0   3 -0.172991\n",
       "4      0   4  0.149356\n",
       "...   ..  ..       ...\n",
       "2111  45  41  0.783647\n",
       "2112  45  42  0.681884\n",
       "2113  45  43  0.663566\n",
       "2114  45  44  0.783986\n",
       "2115  45  45  1.000000\n",
       "\n",
       "[2116 rows x 3 columns]"
      ]
     },
     "execution_count": 6,
     "metadata": {},
     "output_type": "execute_result"
    }
   ],
   "source": [
    "df_dis=pd.DataFrame(list_Dis,columns=['p1','p2','distance'])\n",
    "df_dis"
   ]
  },
  {
   "cell_type": "markdown",
   "metadata": {},
   "source": [
    "## Sort patients based on cosine distance DESC\n",
    "### Retrive Top_K for query patient Q_i"
   ]
  },
  {
   "cell_type": "code",
   "execution_count": 86,
   "metadata": {},
   "outputs": [],
   "source": [
    "\n",
    "list_patient=df_dis['p1'].unique().tolist()\n",
    "ls_ranked=df_dis[df_dis['p1']==Q_i].sort_values('distance',ascending=False)\n",
    "ls_ranked.reset_index()\n",
    "ls_ranked_K=ls_ranked.iloc[0:k-1]\n"
   ]
  },
  {
   "cell_type": "code",
   "execution_count": 161,
   "metadata": {},
   "outputs": [
    {
     "data": {
      "text/plain": [
       "[0.8232, 0.8052, 0.65, 0.5896, 0.5739, 0.5681, 0.5524, 0.5303]"
      ]
     },
     "execution_count": 161,
     "metadata": {},
     "output_type": "execute_result"
    }
   ],
   "source": [
    "k=10\n",
    "Q_i=100016\n",
    "ls_ranked_K2=pd.read_csv(\"D:\\\\Embedding\\\\Code\\\\Data\\\\test.csv\")\n",
    "\n",
    "ls_ranked_K2=ls_ranked_K2[ls_ranked_K2['p1']==Q_i].sort_values('distance',ascending=False)\n",
    "ls_ranked_K2.reset_index()\n",
    "retrive_score=list(ls_ranked_K2['distance'][1:k].round(4))\n",
    "retrive_score"
   ]
  },
  {
   "cell_type": "markdown",
   "metadata": {},
   "source": [
    "# MSE"
   ]
  },
  {
   "cell_type": "markdown",
   "metadata": {},
   "source": [
    "\n",
    "highest gold standard SimIndex score is identied and the score recorded as Yi\n",
    "given a top-k ranking produced by a patient similarity method, the score Yi_Estimated is computed  as max(SimIndex(Qi; P1); ... ; SimIndex(Qi; Pk))"
   ]
  },
  {
   "cell_type": "markdown",
   "metadata": {},
   "source": [
    "## Estimated_Y_i"
   ]
  },
  {
   "cell_type": "code",
   "execution_count": 40,
   "metadata": {},
   "outputs": [],
   "source": [
    "ls_Estimated_Y=[]\n",
    "for i in range(len(ls_ranked_K2)) :\n",
    "    p1=ls_ranked_K2.iloc[i]['p1']\n",
    "    p2=ls_ranked_K2.iloc[i]['p2']\n",
    "    ls_Estimated_Y.append([p2,float(gold_dff[(gold_dff['p1']==p1)  & (gold_dff['p2']==p2)].SimIndex)])\n",
    "\n",
    "    "
   ]
  },
  {
   "cell_type": "code",
   "execution_count": 47,
   "metadata": {},
   "outputs": [],
   "source": [
    "# take second element for sort\n",
    "def takeSecond(elem):\n",
    "    return elem[1]"
   ]
  },
  {
   "cell_type": "code",
   "execution_count": 60,
   "metadata": {},
   "outputs": [
    {
     "data": {
      "text/plain": [
       "0.1236"
      ]
     },
     "execution_count": 60,
     "metadata": {},
     "output_type": "execute_result"
    }
   ],
   "source": [
    "\n",
    "# sort list with key\n",
    "ls_Estimated_Y.sort(key=takeSecond,reverse = True)\n",
    "\n",
    "# print list\n",
    "Estimated_Y_i= ls_Estimated_Y[0][1]\n",
    "Estimated_Y_i"
   ]
  },
  {
   "cell_type": "markdown",
   "metadata": {},
   "source": [
    "## Y_i"
   ]
  },
  {
   "cell_type": "code",
   "execution_count": 78,
   "metadata": {},
   "outputs": [
    {
     "data": {
      "text/html": [
       "<div>\n",
       "<style scoped>\n",
       "    .dataframe tbody tr th:only-of-type {\n",
       "        vertical-align: middle;\n",
       "    }\n",
       "\n",
       "    .dataframe tbody tr th {\n",
       "        vertical-align: top;\n",
       "    }\n",
       "\n",
       "    .dataframe thead th {\n",
       "        text-align: right;\n",
       "    }\n",
       "</style>\n",
       "<table border=\"1\" class=\"dataframe\">\n",
       "  <thead>\n",
       "    <tr style=\"text-align: right;\">\n",
       "      <th></th>\n",
       "      <th>p1</th>\n",
       "      <th>p2</th>\n",
       "      <th>SimIndex</th>\n",
       "    </tr>\n",
       "  </thead>\n",
       "  <tbody>\n",
       "    <tr>\n",
       "      <th>0</th>\n",
       "      <td>100016</td>\n",
       "      <td>100016</td>\n",
       "      <td>1.0000</td>\n",
       "    </tr>\n",
       "    <tr>\n",
       "      <th>1</th>\n",
       "      <td>100016</td>\n",
       "      <td>100050</td>\n",
       "      <td>0.0000</td>\n",
       "    </tr>\n",
       "    <tr>\n",
       "      <th>2</th>\n",
       "      <td>100016</td>\n",
       "      <td>100058</td>\n",
       "      <td>0.0000</td>\n",
       "    </tr>\n",
       "    <tr>\n",
       "      <th>3</th>\n",
       "      <td>100016</td>\n",
       "      <td>100074</td>\n",
       "      <td>0.1236</td>\n",
       "    </tr>\n",
       "    <tr>\n",
       "      <th>4</th>\n",
       "      <td>100016</td>\n",
       "      <td>100109</td>\n",
       "      <td>0.0187</td>\n",
       "    </tr>\n",
       "  </tbody>\n",
       "</table>\n",
       "</div>"
      ],
      "text/plain": [
       "       p1      p2  SimIndex\n",
       "0  100016  100016    1.0000\n",
       "1  100016  100050    0.0000\n",
       "2  100016  100058    0.0000\n",
       "3  100016  100074    0.1236\n",
       "4  100016  100109    0.0187"
      ]
     },
     "execution_count": 78,
     "metadata": {},
     "output_type": "execute_result"
    }
   ],
   "source": [
    "#Load Gold Standard\n",
    "gold_dff=pd.read_csv('D:\\Embedding\\Code\\gold_standard_Full.csv')\n",
    "gold_dff.head()\n"
   ]
  },
  {
   "cell_type": "code",
   "execution_count": 150,
   "metadata": {},
   "outputs": [
    {
     "data": {
      "text/plain": [
       "[0.8163, 0.8163, 0.8061, 0.8051, 0.7992, 0.7992, 0.7985, 0.7985]"
      ]
     },
     "execution_count": 150,
     "metadata": {},
     "output_type": "execute_result"
    }
   ],
   "source": [
    "Q_i=100016\n",
    "gold_Y_i=gold_dff[gold_dff['p1']==Q_i].sort_values('SimIndex',ascending=False)\n",
    "gold_Y_i=gold_Y_i.iloc[0:k-1]\n",
    "gold_Y_i.reset_index()\n",
    "ideal=list(gold_Y_i['SimIndex'][1:k])\n",
    "ideal"
   ]
  },
  {
   "cell_type": "code",
   "execution_count": null,
   "metadata": {},
   "outputs": [],
   "source": []
  },
  {
   "cell_type": "code",
   "execution_count": 80,
   "metadata": {},
   "outputs": [
    {
     "data": {
      "text/plain": [
       "0.8163"
      ]
     },
     "execution_count": 80,
     "metadata": {},
     "output_type": "execute_result"
    }
   ],
   "source": [
    "Y_i=gold_Y_i.iloc[1].SimIndex\n",
    "Y_i.to_numpy()"
   ]
  },
  {
   "cell_type": "markdown",
   "metadata": {},
   "source": [
    "## Calculate MSE"
   ]
  },
  {
   "cell_type": "code",
   "execution_count": 62,
   "metadata": {},
   "outputs": [],
   "source": [
    " import numpy as np"
   ]
  },
  {
   "cell_type": "code",
   "execution_count": 81,
   "metadata": {},
   "outputs": [
    {
     "data": {
      "text/plain": [
       "0.47983328999999997"
      ]
     },
     "execution_count": 81,
     "metadata": {},
     "output_type": "execute_result"
    }
   ],
   "source": [
    "\n",
    "MSE = np.square(np.subtract(Y_i,Estimated_Y_i)).mean() \n",
    "MSE"
   ]
  },
  {
   "cell_type": "markdown",
   "metadata": {},
   "source": [
    "## Calculate Discounted Cumulative Gain  "
   ]
  },
  {
   "cell_type": "code",
   "execution_count": 151,
   "metadata": {},
   "outputs": [
    {
     "data": {
      "text/plain": [
       "[0.8163, 0.8163, 0.8061, 0.8051, 0.7992, 0.7992, 0.7985, 0.7985]"
      ]
     },
     "execution_count": 151,
     "metadata": {},
     "output_type": "execute_result"
    }
   ],
   "source": [
    "ideal"
   ]
  },
  {
   "cell_type": "code",
   "execution_count": 162,
   "metadata": {},
   "outputs": [
    {
     "data": {
      "text/plain": [
       "[0.8232, 0.8052, 0.65, 0.5896, 0.5739, 0.5681, 0.5524, 0.5303]"
      ]
     },
     "execution_count": 162,
     "metadata": {},
     "output_type": "execute_result"
    }
   ],
   "source": [
    "retrive_score"
   ]
  },
  {
   "cell_type": "code",
   "execution_count": 163,
   "metadata": {},
   "outputs": [
    {
     "name": "stdout",
     "output_type": "stream",
     "text": [
      "3.1930345730039167\n"
     ]
    }
   ],
   "source": [
    "DCG_ideal=0\n",
    "for i in range(1,len(ideal)+1):\n",
    "    DCG_ideal=DCG_ideal+(ideal[i-1]/(np.log(i+1)/np.log(2)))\n",
    "print(DCG_ideal)\n"
   ]
  },
  {
   "cell_type": "code",
   "execution_count": 164,
   "metadata": {},
   "outputs": [
    {
     "name": "stdout",
     "output_type": "stream",
     "text": [
      "2.6859520227765863\n"
     ]
    }
   ],
   "source": [
    "DCG_retrive=0\n",
    "for i in range(1,len(retrive_score)+1):\n",
    "    DCG_retrive=DCG_retrive+(retrive_score[i-1]/(np.log(i+1)/np.log(2)))\n",
    "print(DCG_retrive)"
   ]
  },
  {
   "cell_type": "code",
   "execution_count": 165,
   "metadata": {},
   "outputs": [
    {
     "data": {
      "text/plain": [
       "0.8411910242016949"
      ]
     },
     "execution_count": 165,
     "metadata": {},
     "output_type": "execute_result"
    }
   ],
   "source": [
    "nDCG=DCG_retrive/DCG_ideal\n",
    "nDCG"
   ]
  },
  {
   "cell_type": "code",
   "execution_count": null,
   "metadata": {},
   "outputs": [],
   "source": []
  },
  {
   "cell_type": "code",
   "execution_count": null,
   "metadata": {},
   "outputs": [],
   "source": []
  },
  {
   "cell_type": "code",
   "execution_count": null,
   "metadata": {},
   "outputs": [],
   "source": []
  },
  {
   "cell_type": "code",
   "execution_count": null,
   "metadata": {},
   "outputs": [],
   "source": []
  }
 ],
 "metadata": {
  "kernelspec": {
   "display_name": "Python 3",
   "language": "python",
   "name": "python3"
  },
  "language_info": {
   "codemirror_mode": {
    "name": "ipython",
    "version": 3
   },
   "file_extension": ".py",
   "mimetype": "text/x-python",
   "name": "python",
   "nbconvert_exporter": "python",
   "pygments_lexer": "ipython3",
   "version": "3.7.1"
  }
 },
 "nbformat": 4,
 "nbformat_minor": 4
}
